{
 "cells": [
  {
   "cell_type": "code",
   "execution_count": 1,
   "metadata": {
    "collapsed": true,
    "scrolled": false
   },
   "outputs": [],
   "source": [
    "import pandas as pd\n",
    "import numpy as np\n",
    "from sklearn import linear_model\n",
    "from numpy import genfromtxt\n",
    "import matplotlib.pyplot as plt\n",
    "import seaborn as sns\n",
    "from cycler import cycler\n",
    "import csv\n"
   ]
  },
  {
   "cell_type": "code",
   "execution_count": 2,
   "metadata": {
    "collapsed": true
   },
   "outputs": [],
   "source": [
    "from corrome.sim import chain_interactions\n",
    "from skbio.stats.composition import closure\n",
    "from corrome.sim import compositional_noise\n",
    "from numpy.random import RandomState\n",
    "from skbio.stats.composition import perturb\n",
    "from scipy.stats import expon\n",
    "from sklearn import linear_model\n",
    "from sklearn.metrics import mean_squared_error\n",
    "from corrome.sim import multinomial_sample\n",
    "from sklearn.ensemble import RandomForestRegressor\n"
   ]
  },
  {
   "cell_type": "code",
   "execution_count": 3,
   "metadata": {
    "collapsed": true
   },
   "outputs": [],
   "source": [
    "n=100\n",
    "\n",
    "x1=np.empty([n,1])\n",
    "x2=np.empty([n,1])\n",
    "x3=np.empty([n,1])\n",
    "x4=np.empty([n,1])\n"
   ]
  },
  {
   "cell_type": "code",
   "execution_count": 4,
   "metadata": {
    "collapsed": true
   },
   "outputs": [],
   "source": [
    "for i in range(0,n):\n",
    "    x1[i]=np.random.randint(2, size=1)\n",
    "    x2[i]=i+1\n",
    "    \n",
    "\n",
    "x3=np.log(x2)\n",
    "x4=x3*x2\n",
    "x1\n",
    "table=np.concatenate((x1,x2,x3,x4),axis=1)\n"
   ]
  },
  {
   "cell_type": "code",
   "execution_count": 5,
   "metadata": {
    "collapsed": true
   },
   "outputs": [],
   "source": [
    "np.random.seed()\n",
    "clsens=np.zeros(50)\n",
    "clspec=np.zeros(50)\n",
    "rfsens=np.zeros(50)\n",
    "rfspec=np.zeros(50)\n",
    "betaval=np.zeros(50)"
   ]
  },
  {
   "cell_type": "code",
   "execution_count": 6,
   "metadata": {},
   "outputs": [
    {
     "name": "stderr",
     "output_type": "stream",
     "text": [
      "/Users/joyce/anaconda/envs/python3/lib/python3.6/site-packages/sklearn/linear_model/coordinate_descent.py:484: ConvergenceWarning: Objective did not converge. You might want to increase the number of iterations. Fitting data with very small alpha may cause precision problems.\n",
      "  ConvergenceWarning)\n",
      "/Users/joyce/anaconda/envs/python3/lib/python3.6/site-packages/sklearn/linear_model/coordinate_descent.py:484: ConvergenceWarning: Objective did not converge. You might want to increase the number of iterations. Fitting data with very small alpha may cause precision problems.\n",
      "  ConvergenceWarning)\n",
      "/Users/joyce/anaconda/envs/python3/lib/python3.6/site-packages/sklearn/linear_model/coordinate_descent.py:484: ConvergenceWarning: Objective did not converge. You might want to increase the number of iterations. Fitting data with very small alpha may cause precision problems.\n",
      "  ConvergenceWarning)\n",
      "/Users/joyce/anaconda/envs/python3/lib/python3.6/site-packages/sklearn/linear_model/coordinate_descent.py:484: ConvergenceWarning: Objective did not converge. You might want to increase the number of iterations. Fitting data with very small alpha may cause precision problems.\n",
      "  ConvergenceWarning)\n",
      "/Users/joyce/anaconda/envs/python3/lib/python3.6/site-packages/sklearn/linear_model/coordinate_descent.py:484: ConvergenceWarning: Objective did not converge. You might want to increase the number of iterations. Fitting data with very small alpha may cause precision problems.\n",
      "  ConvergenceWarning)\n",
      "/Users/joyce/anaconda/envs/python3/lib/python3.6/site-packages/sklearn/linear_model/coordinate_descent.py:484: ConvergenceWarning: Objective did not converge. You might want to increase the number of iterations. Fitting data with very small alpha may cause precision problems.\n",
      "  ConvergenceWarning)\n",
      "/Users/joyce/anaconda/envs/python3/lib/python3.6/site-packages/sklearn/linear_model/coordinate_descent.py:484: ConvergenceWarning: Objective did not converge. You might want to increase the number of iterations. Fitting data with very small alpha may cause precision problems.\n",
      "  ConvergenceWarning)\n",
      "/Users/joyce/anaconda/envs/python3/lib/python3.6/site-packages/sklearn/linear_model/coordinate_descent.py:484: ConvergenceWarning: Objective did not converge. You might want to increase the number of iterations. Fitting data with very small alpha may cause precision problems.\n",
      "  ConvergenceWarning)\n",
      "/Users/joyce/anaconda/envs/python3/lib/python3.6/site-packages/sklearn/linear_model/coordinate_descent.py:484: ConvergenceWarning: Objective did not converge. You might want to increase the number of iterations. Fitting data with very small alpha may cause precision problems.\n",
      "  ConvergenceWarning)\n",
      "/Users/joyce/anaconda/envs/python3/lib/python3.6/site-packages/sklearn/linear_model/coordinate_descent.py:484: ConvergenceWarning: Objective did not converge. You might want to increase the number of iterations. Fitting data with very small alpha may cause precision problems.\n",
      "  ConvergenceWarning)\n"
     ]
    }
   ],
   "source": [
    "for k in range(0,10):    \n",
    "    gt=np.empty([n,4])\n",
    "    for j in range(0,4): \n",
    "        coef=np.random.normal(0, 5, 4)\n",
    "        for i in range(0,n):    \n",
    "            coef=np.absolute(coef)\n",
    "            gt[i,j]=coef[0]*x1[i]+coef[1]*x2[i]+coef[2]*x3[i]+coef[3]*x4[i]\n",
    "    betaval[k]=np.linalg.norm(gt)\n",
    "\n",
    "    microbial_truth=gt\n",
    "    microbial_table = closure(microbial_truth)\n",
    "    gradient = np.linspace(0, 36, 100)\n",
    "    rng = RandomState(0)\n",
    "    cov = np.eye(3)\n",
    "    m_noise = compositional_noise(cov, nsamp=len(gradient), rng=rng)\n",
    "    microbial_table = np.vstack([\n",
    "        perturb(microbial_table[i, :], m_noise[i, :])\n",
    "        for i in range(len(gradient))])\n",
    "    x = np.linspace(0, 11, 100)\n",
    "    contaminant_urn = closure(expon.pdf(x))\n",
    "    plt.plot(contaminant_urn)\n",
    "    plt.xlabel('Species')\n",
    "    plt.ylabel('Proportion')\n",
    "    contaminant_urns = np.repeat(np.expand_dims(contaminant_urn, axis=0),\n",
    "                             microbial_table.shape[0], axis=0)\n",
    "    microbial_table = np.hstack((microbial_table, contaminant_urns))\n",
    "    microbial_table = closure(microbial_table)\n",
    "    microbial_table = multinomial_sample(microbial_table, lam=10000)\n",
    "    \n",
    "    cl = linear_model.MultiTaskLassoCV()\n",
    "    cl.fit(X=microbial_table,y=table)\n",
    "    clcoef=np.ones(104)\n",
    "    for i in range(0,104):\n",
    "        if all(v == 0 for v in cl.coef_[:,i]):\n",
    "            clcoef[i]=0\n",
    "    clsens[k]=sum(clcoef[0:4])/4;\n",
    "    clspec[k]=(100-sum(clcoef[4:100]))/100;\n",
    "    rf=RandomForestRegressor()\n",
    "    rf.fit(X=microbial_table,y=table)\n",
    "    rfcoef=np.ones(104)\n",
    "    for i in range(0,104):\n",
    "        if rf.feature_importances_[i]==0:\n",
    "            rfcoef[i]=0\n",
    "    \n",
    "    rfsens[k]=sum(rfcoef[0:4])/4;\n",
    "    rfspec[k]=(100-sum(rfcoef[4:100]))/100;\n"
   ]
  },
  {
   "cell_type": "code",
   "execution_count": 8,
   "metadata": {},
   "outputs": [
    {
     "data": {
      "image/png": "[encoded data removed]",
      "text/plain": [
       "<matplotlib.figure.Figure at 0x119007358>"
      ]
     },
     "metadata": {},
     "output_type": "display_data"
    }
   ],
   "source": [
    "plt.plot(betaval, rfspec, 'yo')\n",
    "plt.plot(betaval, clspec, 'ro')\n",
    "plt.show()"
   ]
  },
  {
   "cell_type": "code",
   "execution_count": 9,
   "metadata": {},
   "outputs": [
    {
     "data": {
      "image/png": "[encoded data removed]",
      "text/plain": [
       "<matplotlib.figure.Figure at 0x11c4d8470>"
      ]
     },
     "metadata": {},
     "output_type": "display_data"
    }
   ],
   "source": [
    "plt.plot(betaval, rfsens, 'yo')\n",
    "plt.plot(betaval, clsens, 'ro')\n",
    "plt.show()"
   ]
  },
  {
   "cell_type": "code",
   "execution_count": 103,
   "metadata": {
    "collapsed": true
   },
   "outputs": [],
   "source": [
    "with open('microbial_table.csv', 'w') as csvfile:\n",
    "    writer = csv.writer(csvfile)\n",
    "    [writer.writerow(r) for r in microbial_table]"
   ]
  }
 ],
 "metadata": {
  "kernelspec": {
   "display_name": "Python 3",
   "language": "python",
   "name": "python3"
  },
  "language_info": {
   "codemirror_mode": {
    "name": "ipython",
    "version": 3
   },
   "file_extension": ".py",
   "mimetype": "text/x-python",
   "name": "python",
   "nbconvert_exporter": "python",
   "pygments_lexer": "ipython3",
   "version": "3.6.1"
  }
 },
 "nbformat": 4,
 "nbformat_minor": 2
}
